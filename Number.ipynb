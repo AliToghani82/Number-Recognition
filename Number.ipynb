{
 "cells": [
  {
   "cell_type": "code",
   "execution_count": 1,
   "metadata": {},
   "outputs": [],
   "source": [
    "import tensorflow as tf\n",
    "import matplotlib.pyplot as plt\n",
    "import numpy as np\n",
    "import gradio as gr"
   ]
  },
  {
   "cell_type": "code",
   "execution_count": 2,
   "metadata": {},
   "outputs": [],
   "source": [
    "mnist = tf.keras.datasets.mnist\n",
    "(x_train, y_train),(x_test, y_test) = mnist.load_data()"
   ]
  },
  {
   "cell_type": "code",
   "execution_count": 3,
   "metadata": {},
   "outputs": [
    {
     "data": {
      "image/png": "[encoded data removed]",
      "text/plain": [
       "<Figure size 432x288 with 1 Axes>"
      ]
     },
     "metadata": {
      "needs_background": "light"
     },
     "output_type": "display_data"
    }
   ],
   "source": [
    "plt.imshow(x_train[6], cmap=\"gray\")\n",
    "plt.show()"
   ]
  },
  {
   "cell_type": "code",
   "execution_count": 4,
   "metadata": {},
   "outputs": [],
   "source": [
    "x_train = tf.keras.utils.normalize(x_train, axis=1)"
   ]
  },
  {
   "cell_type": "code",
   "execution_count": 5,
   "metadata": {},
   "outputs": [],
   "source": [
    "x_test = tf.keras.utils.normalize(x_test, axis=1)"
   ]
  },
  {
   "cell_type": "code",
   "execution_count": 6,
   "metadata": {},
   "outputs": [],
   "source": [
    "model = tf.keras.models.Sequential()\n",
    "model.add(tf.keras.layers.Flatten())\n",
    "model.add(tf.keras.layers.Dense(128, activation=tf.nn.relu))\n",
    "model.add(tf.keras.layers.Dense(128, activation=tf.nn.relu))\n",
    "model.add(tf.keras.layers.Dense(10, activation=tf.nn.softmax))"
   ]
  },
  {
   "cell_type": "code",
   "execution_count": 7,
   "metadata": {},
   "outputs": [],
   "source": [
    "model.compile(optimizer=\"adam\", loss=\"sparse_categorical_crossentropy\", metrics=[\"accuracy\"])"
   ]
  },
  {
   "cell_type": "code",
   "execution_count": 16,
   "metadata": {},
   "outputs": [
    {
     "name": "stdout",
     "output_type": "stream",
     "text": [
      "Epoch 1/100\n",
      "1875/1875 [==============================] - 2s 1ms/step - loss: 0.0142 - accuracy: 0.9953\n",
      "Epoch 2/100\n",
      "1875/1875 [==============================] - 2s 928us/step - loss: 0.0130 - accuracy: 0.9954\n",
      "Epoch 3/100\n",
      "1875/1875 [==============================] - 2s 1ms/step - loss: 0.0121 - accuracy: 0.9957\n",
      "Epoch 4/100\n",
      "1875/1875 [==============================] - 2s 1ms/step - loss: 0.0110 - accuracy: 0.9962\n",
      "Epoch 5/100\n",
      "1875/1875 [==============================] - 2s 1ms/step - loss: 0.0095 - accuracy: 0.9966\n",
      "Epoch 6/100\n",
      "1875/1875 [==============================] - 2s 887us/step - loss: 0.0089 - accuracy: 0.9969\n",
      "Epoch 7/100\n",
      "1875/1875 [==============================] - 2s 1ms/step - loss: 0.0088 - accuracy: 0.9970\n",
      "Epoch 8/100\n",
      "1875/1875 [==============================] - 2s 1ms/step - loss: 0.0094 - accuracy: 0.9969\n",
      "Epoch 9/100\n",
      "1875/1875 [==============================] - 2s 899us/step - loss: 0.0086 - accuracy: 0.9971\n",
      "Epoch 10/100\n",
      "1875/1875 [==============================] - 2s 1ms/step - loss: 0.0068 - accuracy: 0.9977\n",
      "Epoch 11/100\n",
      "1875/1875 [==============================] - 2s 1ms/step - loss: 0.0080 - accuracy: 0.9973\n",
      "Epoch 12/100\n",
      "1875/1875 [==============================] - 2s 1ms/step - loss: 0.0064 - accuracy: 0.9979\n",
      "Epoch 13/100\n",
      "1875/1875 [==============================] - 2s 1ms/step - loss: 0.0079 - accuracy: 0.9973\n",
      "Epoch 14/100\n",
      "1875/1875 [==============================] - 2s 1ms/step - loss: 0.0068 - accuracy: 0.9978\n",
      "Epoch 15/100\n",
      "1875/1875 [==============================] - 3s 1ms/step - loss: 0.0062 - accuracy: 0.9979\n",
      "Epoch 16/100\n",
      "1875/1875 [==============================] - 2s 1ms/step - loss: 0.0067 - accuracy: 0.9977\n",
      "Epoch 17/100\n",
      "1875/1875 [==============================] - 2s 1ms/step - loss: 0.0068 - accuracy: 0.9979\n",
      "Epoch 18/100\n",
      "1875/1875 [==============================] - 2s 1ms/step - loss: 0.0056 - accuracy: 0.9983\n",
      "Epoch 19/100\n",
      "1875/1875 [==============================] - 2s 986us/step - loss: 0.0054 - accuracy: 0.9984\n",
      "Epoch 20/100\n",
      "1875/1875 [==============================] - 2s 1ms/step - loss: 0.0064 - accuracy: 0.9979\n",
      "Epoch 21/100\n",
      "1875/1875 [==============================] - 2s 1ms/step - loss: 0.0049 - accuracy: 0.9986\n",
      "Epoch 22/100\n",
      "1875/1875 [==============================] - 2s 990us/step - loss: 0.0060 - accuracy: 0.9981\n",
      "Epoch 23/100\n",
      "1875/1875 [==============================] - 2s 975us/step - loss: 0.0063 - accuracy: 0.9980\n",
      "Epoch 24/100\n",
      "1875/1875 [==============================] - 2s 991us/step - loss: 0.0042 - accuracy: 0.9985\n",
      "Epoch 25/100\n",
      "1875/1875 [==============================] - 2s 1ms/step - loss: 0.0064 - accuracy: 0.9980\n",
      "Epoch 26/100\n",
      "1875/1875 [==============================] - 2s 969us/step - loss: 0.0048 - accuracy: 0.9985\n",
      "Epoch 27/100\n",
      "1875/1875 [==============================] - 2s 981us/step - loss: 0.0053 - accuracy: 0.9985\n",
      "Epoch 28/100\n",
      "1875/1875 [==============================] - 2s 965us/step - loss: 0.0045 - accuracy: 0.9986\n",
      "Epoch 29/100\n",
      "1875/1875 [==============================] - 2s 955us/step - loss: 0.0067 - accuracy: 0.9980\n",
      "Epoch 30/100\n",
      "1875/1875 [==============================] - 2s 944us/step - loss: 0.0048 - accuracy: 0.9984\n",
      "Epoch 31/100\n",
      "1875/1875 [==============================] - 2s 1ms/step - loss: 0.0044 - accuracy: 0.9987\n",
      "Epoch 32/100\n",
      "1875/1875 [==============================] - 2s 993us/step - loss: 0.0046 - accuracy: 0.9984\n",
      "Epoch 33/100\n",
      "1875/1875 [==============================] - 2s 971us/step - loss: 0.0064 - accuracy: 0.9984\n",
      "Epoch 34/100\n",
      "1875/1875 [==============================] - 2s 1ms/step - loss: 0.0051 - accuracy: 0.9985\n",
      "Epoch 35/100\n",
      "1875/1875 [==============================] - 2s 999us/step - loss: 0.0043 - accuracy: 0.9987\n",
      "Epoch 36/100\n",
      "1875/1875 [==============================] - 2s 1ms/step - loss: 0.0042 - accuracy: 0.9987\n",
      "Epoch 37/100\n",
      "1875/1875 [==============================] - 2s 1ms/step - loss: 0.0057 - accuracy: 0.9984\n",
      "Epoch 38/100\n",
      "1875/1875 [==============================] - 2s 1ms/step - loss: 0.0057 - accuracy: 0.9984\n",
      "Epoch 39/100\n",
      "1875/1875 [==============================] - 3s 2ms/step - loss: 0.0053 - accuracy: 0.9987\n",
      "Epoch 40/100\n",
      "1875/1875 [==============================] - 4s 2ms/step - loss: 0.0054 - accuracy: 0.9988\n",
      "Epoch 41/100\n",
      "1875/1875 [==============================] - 2s 1ms/step - loss: 0.0032 - accuracy: 0.9991\n",
      "Epoch 42/100\n",
      "1875/1875 [==============================] - 2s 897us/step - loss: 0.0036 - accuracy: 0.9990\n",
      "Epoch 43/100\n",
      "1875/1875 [==============================] - 2s 923us/step - loss: 0.0040 - accuracy: 0.9988\n",
      "Epoch 44/100\n",
      "1875/1875 [==============================] - 2s 873us/step - loss: 0.0045 - accuracy: 0.9987\n",
      "Epoch 45/100\n",
      "1875/1875 [==============================] - 2s 859us/step - loss: 0.0044 - accuracy: 0.9987\n",
      "Epoch 46/100\n",
      "1875/1875 [==============================] - 2s 886us/step - loss: 0.0051 - accuracy: 0.9985\n",
      "Epoch 47/100\n",
      "1875/1875 [==============================] - 2s 901us/step - loss: 0.0038 - accuracy: 0.9990\n",
      "Epoch 48/100\n",
      "1875/1875 [==============================] - 2s 859us/step - loss: 0.0047 - accuracy: 0.9985\n",
      "Epoch 49/100\n",
      "1875/1875 [==============================] - 2s 869us/step - loss: 0.0042 - accuracy: 0.9988\n",
      "Epoch 50/100\n",
      "1875/1875 [==============================] - 2s 858us/step - loss: 0.0039 - accuracy: 0.9987\n",
      "Epoch 51/100\n",
      "1875/1875 [==============================] - 2s 854us/step - loss: 0.0055 - accuracy: 0.9987\n",
      "Epoch 52/100\n",
      "1875/1875 [==============================] - 2s 863us/step - loss: 0.0044 - accuracy: 0.9990\n",
      "Epoch 53/100\n",
      "1875/1875 [==============================] - 2s 861us/step - loss: 0.0035 - accuracy: 0.9990\n",
      "Epoch 54/100\n",
      "1875/1875 [==============================] - 2s 859us/step - loss: 0.0048 - accuracy: 0.9988\n",
      "Epoch 55/100\n",
      "1875/1875 [==============================] - 2s 862us/step - loss: 0.0021 - accuracy: 0.9994\n",
      "Epoch 56/100\n",
      "1875/1875 [==============================] - 2s 878us/step - loss: 0.0041 - accuracy: 0.9988\n",
      "Epoch 57/100\n",
      "1875/1875 [==============================] - 2s 903us/step - loss: 0.0045 - accuracy: 0.9987\n",
      "Epoch 58/100\n",
      "1875/1875 [==============================] - 2s 959us/step - loss: 0.0054 - accuracy: 0.9986\n",
      "Epoch 59/100\n",
      "1875/1875 [==============================] - 2s 916us/step - loss: 0.0043 - accuracy: 0.9988\n",
      "Epoch 60/100\n",
      "1875/1875 [==============================] - 2s 888us/step - loss: 0.0043 - accuracy: 0.9988\n",
      "Epoch 61/100\n",
      "1875/1875 [==============================] - 2s 892us/step - loss: 0.0017 - accuracy: 0.9996\n",
      "Epoch 62/100\n",
      "1875/1875 [==============================] - 2s 899us/step - loss: 0.0052 - accuracy: 0.9988\n",
      "Epoch 63/100\n",
      "1875/1875 [==============================] - 2s 889us/step - loss: 0.0043 - accuracy: 0.9988\n",
      "Epoch 64/100\n",
      "1875/1875 [==============================] - 2s 1ms/step - loss: 0.0056 - accuracy: 0.9990\n",
      "Epoch 65/100\n",
      "1875/1875 [==============================] - 2s 885us/step - loss: 0.0035 - accuracy: 0.9992\n",
      "Epoch 66/100\n",
      "1875/1875 [==============================] - 2s 1ms/step - loss: 0.0047 - accuracy: 0.9990\n",
      "Epoch 67/100\n",
      "1875/1875 [==============================] - 2s 1ms/step - loss: 0.0038 - accuracy: 0.9990\n",
      "Epoch 68/100\n",
      "1875/1875 [==============================] - 2s 918us/step - loss: 0.0028 - accuracy: 0.9993\n",
      "Epoch 69/100\n",
      "1875/1875 [==============================] - 2s 889us/step - loss: 0.0035 - accuracy: 0.9991\n",
      "Epoch 70/100\n",
      "1875/1875 [==============================] - 2s 1ms/step - loss: 0.0032 - accuracy: 0.9990\n",
      "Epoch 71/100\n",
      "1875/1875 [==============================] - 3s 2ms/step - loss: 0.0044 - accuracy: 0.9987\n",
      "Epoch 72/100\n",
      "1875/1875 [==============================] - 2s 1ms/step - loss: 0.0017 - accuracy: 0.9994\n",
      "Epoch 73/100\n",
      "1875/1875 [==============================] - 3s 2ms/step - loss: 0.0033 - accuracy: 0.9991\n",
      "Epoch 74/100\n",
      "1875/1875 [==============================] - 3s 2ms/step - loss: 0.0053 - accuracy: 0.9988\n",
      "Epoch 75/100\n",
      "1875/1875 [==============================] - 4s 2ms/step - loss: 0.0025 - accuracy: 0.9994\n",
      "Epoch 76/100\n",
      "1875/1875 [==============================] - 3s 1ms/step - loss: 0.0063 - accuracy: 0.9986\n",
      "Epoch 77/100\n",
      "1875/1875 [==============================] - 2s 1ms/step - loss: 0.0039 - accuracy: 0.9991\n",
      "Epoch 78/100\n",
      "1875/1875 [==============================] - 2s 953us/step - loss: 0.0040 - accuracy: 0.9990\n",
      "Epoch 79/100\n"
     ]
    },
    {
     "name": "stdout",
     "output_type": "stream",
     "text": [
      "1875/1875 [==============================] - 2s 1ms/step - loss: 0.0016 - accuracy: 0.9995\n",
      "Epoch 80/100\n",
      "1875/1875 [==============================] - 2s 1ms/step - loss: 0.0053 - accuracy: 0.9990\n",
      "Epoch 81/100\n",
      "1875/1875 [==============================] - 2s 1ms/step - loss: 0.0029 - accuracy: 0.9993\n",
      "Epoch 82/100\n",
      "1875/1875 [==============================] - 3s 1ms/step - loss: 0.0037 - accuracy: 0.9991\n",
      "Epoch 83/100\n",
      "1875/1875 [==============================] - 3s 1ms/step - loss: 0.0056 - accuracy: 0.9988\n",
      "Epoch 84/100\n",
      "1875/1875 [==============================] - 3s 1ms/step - loss: 0.0038 - accuracy: 0.9992\n",
      "Epoch 85/100\n",
      "1875/1875 [==============================] - 4s 2ms/step - loss: 0.0029 - accuracy: 0.9993\n",
      "Epoch 86/100\n",
      "1875/1875 [==============================] - 3s 2ms/step - loss: 0.0028 - accuracy: 0.9995\n",
      "Epoch 87/100\n",
      "1875/1875 [==============================] - 3s 1ms/step - loss: 0.0055 - accuracy: 0.9988\n",
      "Epoch 88/100\n",
      "1875/1875 [==============================] - 2s 1ms/step - loss: 0.0021 - accuracy: 0.9994\n",
      "Epoch 89/100\n",
      "1875/1875 [==============================] - 2s 934us/step - loss: 0.0041 - accuracy: 0.9991\n",
      "Epoch 90/100\n",
      "1875/1875 [==============================] - 2s 870us/step - loss: 0.0023 - accuracy: 0.9993\n",
      "Epoch 91/100\n",
      "1875/1875 [==============================] - 2s 863us/step - loss: 0.0028 - accuracy: 0.9994\n",
      "Epoch 92/100\n",
      "1875/1875 [==============================] - 2s 859us/step - loss: 0.0043 - accuracy: 0.9990\n",
      "Epoch 93/100\n",
      "1875/1875 [==============================] - 2s 840us/step - loss: 0.0037 - accuracy: 0.9992\n",
      "Epoch 94/100\n",
      "1875/1875 [==============================] - 2s 844us/step - loss: 0.0024 - accuracy: 0.9994\n",
      "Epoch 95/100\n",
      "1875/1875 [==============================] - 2s 849us/step - loss: 0.0032 - accuracy: 0.9994\n",
      "Epoch 96/100\n",
      "1875/1875 [==============================] - 2s 924us/step - loss: 0.0032 - accuracy: 0.9993\n",
      "Epoch 97/100\n",
      "1875/1875 [==============================] - 2s 851us/step - loss: 0.0036 - accuracy: 0.9992\n",
      "Epoch 98/100\n",
      "1875/1875 [==============================] - 2s 845us/step - loss: 0.0026 - accuracy: 0.9994\n",
      "Epoch 99/100\n",
      "1875/1875 [==============================] - 2s 1ms/step - loss: 0.0027 - accuracy: 0.9994\n",
      "Epoch 100/100\n",
      "1875/1875 [==============================] - 2s 1ms/step - loss: 0.0038 - accuracy: 0.9991\n"
     ]
    },
    {
     "data": {
      "text/plain": [
       "<tensorflow.python.keras.callbacks.History at 0x20d5aa31760>"
      ]
     },
     "execution_count": 16,
     "metadata": {},
     "output_type": "execute_result"
    }
   ],
   "source": [
    "model.fit(x=x_train, y=y_train, epochs=100)"
   ]
  },
  {
   "cell_type": "code",
   "execution_count": 17,
   "metadata": {},
   "outputs": [
    {
     "name": "stdout",
     "output_type": "stream",
     "text": [
      "313/313 [==============================] - 0s 908us/step - loss: 0.3303 - accuracy: 0.9791\n"
     ]
    }
   ],
   "source": [
    "test_loss, test_acc = model.evaluate(x=x_test, y=y_test)"
   ]
  },
  {
   "cell_type": "code",
   "execution_count": 18,
   "metadata": {},
   "outputs": [
    {
     "name": "stdout",
     "output_type": "stream",
     "text": [
      "0.9790999889373779\n"
     ]
    }
   ],
   "source": [
    "print(test_acc)"
   ]
  },
  {
   "cell_type": "code",
   "execution_count": 19,
   "metadata": {},
   "outputs": [],
   "source": [
    "predictions = model.predict([x_test])"
   ]
  },
  {
   "cell_type": "code",
   "execution_count": 20,
   "metadata": {},
   "outputs": [
    {
     "name": "stdout",
     "output_type": "stream",
     "text": [
      "5\n"
     ]
    }
   ],
   "source": [
    "print(np.argmax(predictions[120]))"
   ]
  },
  {
   "cell_type": "code",
   "execution_count": 21,
   "metadata": {},
   "outputs": [
    {
     "data": {
      "image/png": "[encoded data removed]",
      "text/plain": [
       "<Figure size 432x288 with 1 Axes>"
      ]
     },
     "metadata": {
      "needs_background": "light"
     },
     "output_type": "display_data"
    }
   ],
   "source": [
    "plt.imshow(x_test[20], cmap=\"gray\")\n",
    "plt.show()"
   ]
  },
  {
   "cell_type": "code",
   "execution_count": 22,
   "metadata": {},
   "outputs": [],
   "source": [
    "def classify(image):\n",
    "    prediction = model.predict(image).tolist()[0]\n",
    "    return {str(i): prediction[i] for i in range(10)}\n",
    "sketchpad = gr.inputs.Sketchpad()\n",
    "label = gr.outputs.Label(num_top_classes=3)\n",
    "interface = gr.Interface(classify, sketchpad, label, live=True, capture_session=True)"
   ]
  },
  {
   "cell_type": "code",
   "execution_count": 23,
   "metadata": {},
   "outputs": [
    {
     "name": "stdout",
     "output_type": "stream",
     "text": [
      "Running locally at: http://127.0.0.1:7861/\n",
      "To get a public link for a hosted model, set Share=True\n",
      "Interface loading below...\n"
     ]
    },
    {
     "data": {
      "text/html": [
       "\n",
       "        <iframe\n",
       "            width=\"1000\"\n",
       "            height=\"500\"\n",
       "            src=\"http://127.0.0.1:7861/\"\n",
       "            frameborder=\"0\"\n",
       "            allowfullscreen\n",
       "        ></iframe>\n",
       "        "
      ],
      "text/plain": [
       "<IPython.lib.display.IFrame at 0x20d39bdf670>"
      ]
     },
     "metadata": {},
     "output_type": "display_data"
    },
    {
     "data": {
      "text/plain": [
       "(<Flask 'gradio.networking'>, 'http://127.0.0.1:7861/', None)"
      ]
     },
     "execution_count": 23,
     "metadata": {},
     "output_type": "execute_result"
    }
   ],
   "source": [
    "interface.launch()"
   ]
  },
  {
   "cell_type": "code",
   "execution_count": null,
   "metadata": {},
   "outputs": [],
   "source": []
  }
 ],
 "metadata": {
  "kernelspec": {
   "display_name": "Python 3",
   "language": "python",
   "name": "python3"
  },
  "language_info": {
   "codemirror_mode": {
    "name": "ipython",
    "version": 3
   },
   "file_extension": ".py",
   "mimetype": "text/x-python",
   "name": "python",
   "nbconvert_exporter": "python",
   "pygments_lexer": "ipython3",
   "version": "3.8.5"
  }
 },
 "nbformat": 4,
 "nbformat_minor": 4
}
